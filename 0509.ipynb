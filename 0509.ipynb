{
  "nbformat": 4,
  "nbformat_minor": 0,
  "metadata": {
    "colab": {
      "name": "0509.ipynb",
      "provenance": [],
      "authorship_tag": "ABX9TyMyfrxUqBAc/qplzmFK3KD/",
      "include_colab_link": true
    },
    "kernelspec": {
      "name": "python3",
      "display_name": "Python 3"
    },
    "language_info": {
      "name": "python"
    }
  },
  "cells": [
    {
      "cell_type": "markdown",
      "metadata": {
        "id": "view-in-github",
        "colab_type": "text"
      },
      "source": [
        "<a href=\"https://colab.research.google.com/github/LiKuanYi/Introduction-to-Computers/blob/main/0509.ipynb\" target=\"_parent\"><img src=\"https://colab.research.google.com/assets/colab-badge.svg\" alt=\"Open In Colab\"/></a>"
      ]
    },
    {
      "cell_type": "code",
      "source": [
        "temp = float(input(\"請輸入你的體溫\"))\n",
        "if temp >= 37.5:\n",
        "    print(\"體溫過高!\")\n",
        "elif temp >= 37 and temp < 37.4:\n",
        "    print(\"體溫略高!\")\n",
        "elif temp >= 34 and temp <= 36.9:\n",
        "    print(\"體溫正常!\")\n",
        "else:\n",
        "    print(\"體溫異常,請重新量測!\")"
      ],
      "metadata": {
        "colab": {
          "base_uri": "https://localhost:8080/"
        },
        "id": "AkFmp_VJ8Exz",
        "outputId": "3f165dc1-efed-4f76-dae0-d9bd82fadbe2"
      },
      "execution_count": 8,
      "outputs": [
        {
          "output_type": "stream",
          "name": "stdout",
          "text": [
            "請輸入你的體溫33.9\n",
            "體溫異常,請重新量測!\n"
          ]
        }
      ]
    },
    {
      "cell_type": "code",
      "source": [
        "score = input (\"請輸入成績\")\n",
        "if (int(score) >=90):\n",
        "  print(\"A\")\n",
        "elif (int(score) >=80):\n",
        "  print(\"B\")\n",
        "elif (int(score) >=70):\n",
        "  print(\"C\")\n",
        "elif (int(score) >=60):\n",
        "  print(\"D\")\n",
        "else:\n",
        "  print(\"E\")"
      ],
      "metadata": {
        "colab": {
          "base_uri": "https://localhost:8080/"
        },
        "id": "CnaJeB0WAb8n",
        "outputId": "410f9912-0327-469e-d4b5-79742ebfa761"
      },
      "execution_count": 44,
      "outputs": [
        {
          "output_type": "stream",
          "name": "stdout",
          "text": [
            "請輸入成績80\n",
            "B\n"
          ]
        }
      ]
    },
    {
      "cell_type": "code",
      "source": [
        "money = int(input(\"請輸入購物金額\"))\n",
        "if (money>= 10000):\n",
        "  if(money >=100000):\n",
        "    print(\"八折\",money *0.8,end = \"元\\n\")\n",
        "  elif(money >=50000):\n",
        "    print(\"八五折\",money *0.85,end = \"元\\n\")\n",
        "  elif(money >=3000):\n",
        "    print(\"九折\",money *0.9,end = \"元\\n\")\n",
        "  elif(money >=10000):\n",
        "    print(\"九五折\",money *0.95,end = \"元\\n\")\n",
        "else:\n",
        "    print(\"沒打折\",money,end = \"元\\n\")"
      ],
      "metadata": {
        "colab": {
          "base_uri": "https://localhost:8080/"
        },
        "id": "2DhAz40IFAX4",
        "outputId": "40c25b37-101f-411b-f1d6-64088f61a534"
      },
      "execution_count": 56,
      "outputs": [
        {
          "output_type": "stream",
          "name": "stdout",
          "text": [
            "請輸入購物金額50000\n",
            "八五折 42500.0元\n"
          ]
        }
      ]
    },
    {
      "cell_type": "code",
      "source": [
        "month = int(input(\"請輸入月份\"))\n",
        "if month in (3,4,5):\n",
        "    print(month , \"月是春天\")\n",
        "elif month in (6,7,8):\n",
        "    print(month , \"月是夏天\")\n",
        "elif month in (9,10,11):\n",
        "    print(month , \"月是秋天\")\n",
        "elif month in (12,1,2):\n",
        "    print(month , \"月是冬天\")\n",
        "else:\n",
        "    print(\"月份不再範圍內\")"
      ],
      "metadata": {
        "colab": {
          "base_uri": "https://localhost:8080/"
        },
        "id": "Jsgui9StNJhJ",
        "outputId": "69219529-4f35-4d34-a63e-1428f55ccca2"
      },
      "execution_count": 55,
      "outputs": [
        {
          "output_type": "stream",
          "name": "stdout",
          "text": [
            "請輸入月份12\n",
            "12 月是冬天\n"
          ]
        }
      ]
    },
    {
      "cell_type": "code",
      "source": [
        "money = int(input(\"請輸入今年收入淨額\"))\n",
        "if (money>= 300000):\n",
        "  if(money >=2000000):\n",
        "    print(\"付稅金額:\",money *0.3,end = \"元\\n\")\n",
        "  elif(money >=1000000):\n",
        "    print(\"付稅金額:\",money *0.21,end = \"元\\n\")\n",
        "  elif(money >=600000):\n",
        "    print(\"付稅金額:\",money *0.13,end = \"元\\n\")\n",
        "  elif(money >=300000):\n",
        "    print(\"付稅金額:\",money *0.06,end = \"元\\n\")\n",
        "else:\n",
        "   print(\"付稅金額:\",money *0,end = \"元\\n\")"
      ],
      "metadata": {
        "colab": {
          "base_uri": "https://localhost:8080/"
        },
        "id": "7I7-jbFDPwjC",
        "outputId": "86f86e7a-2c8b-4dcd-fd91-fbf9c19d9d49"
      },
      "execution_count": 64,
      "outputs": [
        {
          "output_type": "stream",
          "name": "stdout",
          "text": [
            "請輸入今年收入淨額2000000\n",
            "付稅金額: 600000.0元\n"
          ]
        }
      ]
    }
  ]
}